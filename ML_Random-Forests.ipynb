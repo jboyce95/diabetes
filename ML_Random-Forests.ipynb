{
 "cells": [
  {
   "cell_type": "markdown",
   "id": "809104ff-3eeb-4f9c-8bc6-3c928c12bd06",
   "metadata": {},
   "source": [
    "# Machine Learning and Artificial Intelligence Research:  \n",
    "### Random Forest Classification"
   ]
  },
  {
   "cell_type": "markdown",
   "id": "84830671-9ae7-4e89-9d0c-b49ddf45908d",
   "metadata": {},
   "source": [
    "## Table of contents (click to skip to the section)\n",
    "* [Introduction](#introduction_rf)\n",
    "  * [Background / Problem](#background_problem_rf)\n",
    "    * [Advantages and Disadvantages of Random Forest Models](#procon_rf)\n",
    "* [Data](#data_rf)\n",
    "  * [Import the Data](#pulldata_rf)\n",
    "  * [Exploration (Missing Values, Data Dispersion, Data Types)](#evaluate_rf) \n",
    "    * [Plot Data](#plot_rf)     \n",
    "    * [Data Definitions](#data_defn_rf)     \n",
    "    * [Correlation Matrix](#corr_matrix_rf) \n",
    "    * [Review Dataset Balance](#data_balance_rf)     \n",
    "  * [Data Processing and Preparation](#dataprep_rf)\n",
    "    * [Set X and Target y](#x_and_target_rf)\n",
    "    * [Scale / Normalize (for continuous features)](#normalize_rf)\n",
    "    * [Set Train / Test Splits](#train_test_rf)\n",
    "* [Methodology - Supervised Learning: Classification](#method_class_rf)\n",
    "  * [Random Forest](#randomforest_rf)\n",
    "    * [Modeling - Random Forest](#modelingRF_rf)\n",
    "    * [Accuracy and Important Features - Random Forest](#accuracy_features_rf)\n",
    "* [Conclusion](#conclusion_arima)"
   ]
  },
  {
   "cell_type": "markdown",
   "id": "46a055f8-82ff-4bda-a4b4-bb214b9f7add",
   "metadata": {},
   "source": [
    "## Introduction <a name=\"introduction_rf\"></a>"
   ]
  },
  {
   "cell_type": "markdown",
   "id": "10357f1a-2242-49ac-9b34-ee47d4a4361b",
   "metadata": {},
   "source": [
    "### Background / Problem <a name=\"background_problem\"></a>"
   ]
  },
  {
   "cell_type": "markdown",
   "id": "ac72464a-458b-494a-8657-5eaad8612a72",
   "metadata": {},
   "source": [
    "Random forests"
   ]
  },
  {
   "cell_type": "markdown",
   "id": "f5985467-2604-4059-ae27-af10928b9d03",
   "metadata": {},
   "source": [
    "#### Random Forest Models - Pros and Cons<a name=\"procon_rf\"></a>\n",
    "Advantages of Random Forest models:\n",
    "* Random forests are considered to be a highly accurate and robust method because of the multitudes of decision trees involved.\n",
    "* It does not suffer from the overfitting problem due to it's voting system takes the average of all the predictions, canceling out the biases.\n",
    "* The algorithm can be used in both classification and regression problems.\n",
    "* Random forests can also handle missing values. There are two ways to handle these: using median values to replace continuous variables, and computing the proximity-weighted average of missing values.\n",
    "* It can determine the relative feature importance, which is helpful in prioritizing the most useful features for the classifier.\n",
    "\n",
    "Disadvantages of Random Forest models:\n",
    "* Random forests are time-consuming due to the vast number of decision trees used for the voting process, and all trees in the forest have to make a prediction.\n",
    "* It's more difficult to interpret when compared to a decision tree, where one can easily follow the path.\n",
    "\n",
    "Inspiration comes from the following article:\n",
    " * https://www.freecodecamp.org/news/how-to-use-the-tree-based-algorithm-for-machine-learning/"
   ]
  },
  {
   "cell_type": "code",
   "execution_count": 28,
   "id": "b40a2908-0c3f-4f63-bb55-a3600171e4e2",
   "metadata": {},
   "outputs": [],
   "source": [
    "import numpy as np\n",
    "import pandas as pd\n",
    "import matplotlib.pyplot as plt\n",
    "from matplotlib import rcParams\n",
    "import seaborn as sns\n",
    "import warnings\n",
    "warnings.filterwarnings('ignore')\n",
    "import pandas_datareader.data as web \n",
    "import datetime"
   ]
  },
  {
   "cell_type": "code",
   "execution_count": 29,
   "id": "e7af3531-b80e-47b5-bcd8-b10d8150b6d3",
   "metadata": {},
   "outputs": [],
   "source": [
    "pd.set_option('display.max_columns', None)\n",
    "pd.set_option('display.max_rows', None)"
   ]
  },
  {
   "cell_type": "markdown",
   "id": "0106abc8-657f-4e81-9345-d4974de5b705",
   "metadata": {},
   "source": [
    "## Data <a name=\"data_rf\"></a>"
   ]
  },
  {
   "cell_type": "markdown",
   "id": "18596367-bab5-484b-b1ae-de4622ea6b84",
   "metadata": {},
   "source": [
    "### Import the Data <a name=\"pulldata_rf\"></a>"
   ]
  },
  {
   "cell_type": "code",
   "execution_count": 31,
   "id": "bc650d0b-f128-436c-a3e6-b8dca74bafb0",
   "metadata": {},
   "outputs": [],
   "source": [
    "dataset = pd.read_csv(r'https://raw.githubusercontent.com/Davisy/Random-Forest-classification-Tutorial/master/data/pima_indians_diabetes.csv')"
   ]
  },
  {
   "cell_type": "code",
   "execution_count": 32,
   "id": "6f8ee359-fc59-4159-8c59-c417076484e8",
   "metadata": {},
   "outputs": [
    {
     "data": {
      "text/html": [
       "<div>\n",
       "<style scoped>\n",
       "    .dataframe tbody tr th:only-of-type {\n",
       "        vertical-align: middle;\n",
       "    }\n",
       "\n",
       "    .dataframe tbody tr th {\n",
       "        vertical-align: top;\n",
       "    }\n",
       "\n",
       "    .dataframe thead th {\n",
       "        text-align: right;\n",
       "    }\n",
       "</style>\n",
       "<table border=\"1\" class=\"dataframe\">\n",
       "  <thead>\n",
       "    <tr style=\"text-align: right;\">\n",
       "      <th></th>\n",
       "      <th>time_pregnant_no</th>\n",
       "      <th>plasma_concentration</th>\n",
       "      <th>diastolic_blood_pressure</th>\n",
       "      <th>triceps_skinfold_thickness</th>\n",
       "      <th>serum_insulin</th>\n",
       "      <th>bmi</th>\n",
       "      <th>diabetes_pedigree</th>\n",
       "      <th>age</th>\n",
       "      <th>class</th>\n",
       "    </tr>\n",
       "  </thead>\n",
       "  <tbody>\n",
       "    <tr>\n",
       "      <th>0</th>\n",
       "      <td>6</td>\n",
       "      <td>148</td>\n",
       "      <td>72</td>\n",
       "      <td>35</td>\n",
       "      <td>0</td>\n",
       "      <td>33.6</td>\n",
       "      <td>0.627</td>\n",
       "      <td>50</td>\n",
       "      <td>1</td>\n",
       "    </tr>\n",
       "    <tr>\n",
       "      <th>1</th>\n",
       "      <td>1</td>\n",
       "      <td>85</td>\n",
       "      <td>66</td>\n",
       "      <td>29</td>\n",
       "      <td>0</td>\n",
       "      <td>26.6</td>\n",
       "      <td>0.351</td>\n",
       "      <td>31</td>\n",
       "      <td>0</td>\n",
       "    </tr>\n",
       "    <tr>\n",
       "      <th>2</th>\n",
       "      <td>8</td>\n",
       "      <td>183</td>\n",
       "      <td>64</td>\n",
       "      <td>0</td>\n",
       "      <td>0</td>\n",
       "      <td>23.3</td>\n",
       "      <td>0.672</td>\n",
       "      <td>32</td>\n",
       "      <td>1</td>\n",
       "    </tr>\n",
       "    <tr>\n",
       "      <th>3</th>\n",
       "      <td>1</td>\n",
       "      <td>89</td>\n",
       "      <td>66</td>\n",
       "      <td>23</td>\n",
       "      <td>94</td>\n",
       "      <td>28.1</td>\n",
       "      <td>0.167</td>\n",
       "      <td>21</td>\n",
       "      <td>0</td>\n",
       "    </tr>\n",
       "    <tr>\n",
       "      <th>4</th>\n",
       "      <td>0</td>\n",
       "      <td>137</td>\n",
       "      <td>40</td>\n",
       "      <td>35</td>\n",
       "      <td>168</td>\n",
       "      <td>43.1</td>\n",
       "      <td>2.288</td>\n",
       "      <td>33</td>\n",
       "      <td>1</td>\n",
       "    </tr>\n",
       "  </tbody>\n",
       "</table>\n",
       "</div>"
      ],
      "text/plain": [
       "   time_pregnant_no  plasma_concentration  diastolic_blood_pressure  \\\n",
       "0                 6                   148                        72   \n",
       "1                 1                    85                        66   \n",
       "2                 8                   183                        64   \n",
       "3                 1                    89                        66   \n",
       "4                 0                   137                        40   \n",
       "\n",
       "   triceps_skinfold_thickness  serum_insulin   bmi  diabetes_pedigree  age  \\\n",
       "0                          35              0  33.6              0.627   50   \n",
       "1                          29              0  26.6              0.351   31   \n",
       "2                           0              0  23.3              0.672   32   \n",
       "3                          23             94  28.1              0.167   21   \n",
       "4                          35            168  43.1              2.288   33   \n",
       "\n",
       "   class  \n",
       "0      1  \n",
       "1      0  \n",
       "2      1  \n",
       "3      0  \n",
       "4      1  "
      ]
     },
     "execution_count": 32,
     "metadata": {},
     "output_type": "execute_result"
    }
   ],
   "source": [
    "dataset.head()"
   ]
  },
  {
   "cell_type": "code",
   "execution_count": 33,
   "id": "b6205a15-eb94-4e90-b3a4-1ba5213fb052",
   "metadata": {},
   "outputs": [],
   "source": [
    "dataset.to_csv(r'C:\\Users\\jboyce\\Desktop\\programming stuff\\pima_indians_diabetes.csv')"
   ]
  },
  {
   "cell_type": "markdown",
   "id": "45b45079-8f53-4f7a-871d-6c51dc3acaea",
   "metadata": {},
   "source": [
    "### Exploration (Missing Values, Data Dispersion, Data Types) <a name=\"evaluate_rf\"></a>"
   ]
  },
  {
   "cell_type": "code",
   "execution_count": 34,
   "id": "21a94d60-8793-4ac2-a11c-902108e4faeb",
   "metadata": {},
   "outputs": [
    {
     "name": "stdout",
     "output_type": "stream",
     "text": [
      "<class 'pandas.core.frame.DataFrame'>\n",
      "RangeIndex: 768 entries, 0 to 767\n",
      "Data columns (total 9 columns):\n",
      " #   Column                      Non-Null Count  Dtype  \n",
      "---  ------                      --------------  -----  \n",
      " 0   time_pregnant_no            768 non-null    int64  \n",
      " 1   plasma_concentration        768 non-null    int64  \n",
      " 2   diastolic_blood_pressure    768 non-null    int64  \n",
      " 3   triceps_skinfold_thickness  768 non-null    int64  \n",
      " 4   serum_insulin               768 non-null    int64  \n",
      " 5   bmi                         768 non-null    float64\n",
      " 6   diabetes_pedigree           768 non-null    float64\n",
      " 7   age                         768 non-null    int64  \n",
      " 8   class                       768 non-null    int64  \n",
      "dtypes: float64(2), int64(7)\n",
      "memory usage: 54.1 KB\n",
      "None\n"
     ]
    }
   ],
   "source": [
    "print(dataset.info())"
   ]
  },
  {
   "cell_type": "code",
   "execution_count": 35,
   "id": "4fc16239-c73e-4a70-a6b9-541889f6ad2f",
   "metadata": {},
   "outputs": [
    {
     "data": {
      "text/html": [
       "<div>\n",
       "<style scoped>\n",
       "    .dataframe tbody tr th:only-of-type {\n",
       "        vertical-align: middle;\n",
       "    }\n",
       "\n",
       "    .dataframe tbody tr th {\n",
       "        vertical-align: top;\n",
       "    }\n",
       "\n",
       "    .dataframe thead th {\n",
       "        text-align: right;\n",
       "    }\n",
       "</style>\n",
       "<table border=\"1\" class=\"dataframe\">\n",
       "  <thead>\n",
       "    <tr style=\"text-align: right;\">\n",
       "      <th></th>\n",
       "      <th>time_pregnant_no</th>\n",
       "      <th>plasma_concentration</th>\n",
       "      <th>diastolic_blood_pressure</th>\n",
       "      <th>triceps_skinfold_thickness</th>\n",
       "      <th>serum_insulin</th>\n",
       "      <th>bmi</th>\n",
       "      <th>diabetes_pedigree</th>\n",
       "      <th>age</th>\n",
       "      <th>class</th>\n",
       "    </tr>\n",
       "  </thead>\n",
       "  <tbody>\n",
       "    <tr>\n",
       "      <th>count</th>\n",
       "      <td>768.000000</td>\n",
       "      <td>768.000000</td>\n",
       "      <td>768.000000</td>\n",
       "      <td>768.000000</td>\n",
       "      <td>768.000000</td>\n",
       "      <td>768.000000</td>\n",
       "      <td>768.000000</td>\n",
       "      <td>768.000000</td>\n",
       "      <td>768.000000</td>\n",
       "    </tr>\n",
       "    <tr>\n",
       "      <th>mean</th>\n",
       "      <td>3.845052</td>\n",
       "      <td>120.894531</td>\n",
       "      <td>69.105469</td>\n",
       "      <td>20.536458</td>\n",
       "      <td>79.799479</td>\n",
       "      <td>31.992578</td>\n",
       "      <td>0.471876</td>\n",
       "      <td>33.240885</td>\n",
       "      <td>0.348958</td>\n",
       "    </tr>\n",
       "    <tr>\n",
       "      <th>std</th>\n",
       "      <td>3.369578</td>\n",
       "      <td>31.972618</td>\n",
       "      <td>19.355807</td>\n",
       "      <td>15.952218</td>\n",
       "      <td>115.244002</td>\n",
       "      <td>7.884160</td>\n",
       "      <td>0.331329</td>\n",
       "      <td>11.760232</td>\n",
       "      <td>0.476951</td>\n",
       "    </tr>\n",
       "    <tr>\n",
       "      <th>min</th>\n",
       "      <td>0.000000</td>\n",
       "      <td>0.000000</td>\n",
       "      <td>0.000000</td>\n",
       "      <td>0.000000</td>\n",
       "      <td>0.000000</td>\n",
       "      <td>0.000000</td>\n",
       "      <td>0.078000</td>\n",
       "      <td>21.000000</td>\n",
       "      <td>0.000000</td>\n",
       "    </tr>\n",
       "    <tr>\n",
       "      <th>25%</th>\n",
       "      <td>1.000000</td>\n",
       "      <td>99.000000</td>\n",
       "      <td>62.000000</td>\n",
       "      <td>0.000000</td>\n",
       "      <td>0.000000</td>\n",
       "      <td>27.300000</td>\n",
       "      <td>0.243750</td>\n",
       "      <td>24.000000</td>\n",
       "      <td>0.000000</td>\n",
       "    </tr>\n",
       "    <tr>\n",
       "      <th>50%</th>\n",
       "      <td>3.000000</td>\n",
       "      <td>117.000000</td>\n",
       "      <td>72.000000</td>\n",
       "      <td>23.000000</td>\n",
       "      <td>30.500000</td>\n",
       "      <td>32.000000</td>\n",
       "      <td>0.372500</td>\n",
       "      <td>29.000000</td>\n",
       "      <td>0.000000</td>\n",
       "    </tr>\n",
       "    <tr>\n",
       "      <th>75%</th>\n",
       "      <td>6.000000</td>\n",
       "      <td>140.250000</td>\n",
       "      <td>80.000000</td>\n",
       "      <td>32.000000</td>\n",
       "      <td>127.250000</td>\n",
       "      <td>36.600000</td>\n",
       "      <td>0.626250</td>\n",
       "      <td>41.000000</td>\n",
       "      <td>1.000000</td>\n",
       "    </tr>\n",
       "    <tr>\n",
       "      <th>max</th>\n",
       "      <td>17.000000</td>\n",
       "      <td>199.000000</td>\n",
       "      <td>122.000000</td>\n",
       "      <td>99.000000</td>\n",
       "      <td>846.000000</td>\n",
       "      <td>67.100000</td>\n",
       "      <td>2.420000</td>\n",
       "      <td>81.000000</td>\n",
       "      <td>1.000000</td>\n",
       "    </tr>\n",
       "  </tbody>\n",
       "</table>\n",
       "</div>"
      ],
      "text/plain": [
       "       time_pregnant_no  plasma_concentration  diastolic_blood_pressure  \\\n",
       "count        768.000000            768.000000                768.000000   \n",
       "mean           3.845052            120.894531                 69.105469   \n",
       "std            3.369578             31.972618                 19.355807   \n",
       "min            0.000000              0.000000                  0.000000   \n",
       "25%            1.000000             99.000000                 62.000000   \n",
       "50%            3.000000            117.000000                 72.000000   \n",
       "75%            6.000000            140.250000                 80.000000   \n",
       "max           17.000000            199.000000                122.000000   \n",
       "\n",
       "       triceps_skinfold_thickness  serum_insulin         bmi  \\\n",
       "count                  768.000000     768.000000  768.000000   \n",
       "mean                    20.536458      79.799479   31.992578   \n",
       "std                     15.952218     115.244002    7.884160   \n",
       "min                      0.000000       0.000000    0.000000   \n",
       "25%                      0.000000       0.000000   27.300000   \n",
       "50%                     23.000000      30.500000   32.000000   \n",
       "75%                     32.000000     127.250000   36.600000   \n",
       "max                     99.000000     846.000000   67.100000   \n",
       "\n",
       "       diabetes_pedigree         age       class  \n",
       "count         768.000000  768.000000  768.000000  \n",
       "mean            0.471876   33.240885    0.348958  \n",
       "std             0.331329   11.760232    0.476951  \n",
       "min             0.078000   21.000000    0.000000  \n",
       "25%             0.243750   24.000000    0.000000  \n",
       "50%             0.372500   29.000000    0.000000  \n",
       "75%             0.626250   41.000000    1.000000  \n",
       "max             2.420000   81.000000    1.000000  "
      ]
     },
     "execution_count": 35,
     "metadata": {},
     "output_type": "execute_result"
    }
   ],
   "source": [
    "dataset.describe()"
   ]
  },
  {
   "cell_type": "code",
   "execution_count": 36,
   "id": "ff9d1d8f-bb79-4a0d-a876-121aefe88e01",
   "metadata": {},
   "outputs": [
    {
     "data": {
      "text/plain": [
       "Index(['time_pregnant_no', 'plasma_concentration', 'diastolic_blood_pressure',\n",
       "       'triceps_skinfold_thickness', 'serum_insulin', 'bmi',\n",
       "       'diabetes_pedigree', 'age', 'class'],\n",
       "      dtype='object')"
      ]
     },
     "execution_count": 36,
     "metadata": {},
     "output_type": "execute_result"
    }
   ],
   "source": [
    "dataset.columns"
   ]
  },
  {
   "cell_type": "markdown",
   "id": "7bc35cdf-01df-4ef2-99e3-b2591b76f9a0",
   "metadata": {},
   "source": [
    "### Data Definitions <a name=\"data_defn_rf\"></a>"
   ]
  },
  {
   "cell_type": "markdown",
   "id": "aa423e84-1821-4094-b2f8-dcfa5062c8af",
   "metadata": {},
   "source": [
    "|\tColumn Name\t|\tDescription\t|\n",
    "|\t:--------\t|\t:--------\t|\n",
    "|\ttime_pregnant_no\t|\tNumber of times pregnant\t|\n",
    "|\tplasma_concentration\t|\tPlasma glucose concentration after 2 hours in an oral glucose tolerance test\t|\n",
    "|\tdiastolic_blood_pressure\t|\tDiastolic blood pressure (mm Hg)\t|\n",
    "|\ttriceps_skinfold_thickness\t|\tTriceps skinfold thickness (mm)\t|\n",
    "|\tserum_insulin\t|\t2-hour serum insulin (mu U/ml)\t|\n",
    "|\tbmi\t|\tBody mass index (weight in kg/(height in m)^2)\t|\n",
    "|\tdiabetes_pedigree\t|\tDiabetes pedigree function\t|\n",
    "|\tage\t|\tAge (years)\t|\n",
    "|\tclass\t|\tClass / Target variable (binary 0 or 1)\t|\n"
   ]
  },
  {
   "cell_type": "markdown",
   "id": "215b1c20-46d8-4077-8e80-f3d4419a1795",
   "metadata": {},
   "source": [
    "### Correlation Matrix <a name=\"corr_matrix_rf\"></a>"
   ]
  },
  {
   "cell_type": "code",
   "execution_count": 37,
   "id": "dfd958ab-470a-414d-a386-ec058906c5d8",
   "metadata": {},
   "outputs": [],
   "source": [
    "import seaborn as sns\n",
    "corrmat = dataset.corr()\n",
    "top_corr_features = corrmat.index\n",
    "#plt.figure(figsize=(32,32)) # this figure was too small\n",
    "plt.rcParams[\"figure.figsize\"] = (16,11)\n",
    "# plt.figure()"
   ]
  },
  {
   "cell_type": "code",
   "execution_count": 38,
   "id": "d5a096ed-3f74-4643-87f7-9f3b903f047e",
   "metadata": {},
   "outputs": [
    {
     "data": {
      "image/png": "[encoded data removed]",
      "text/plain": [
       "<Figure size 1152x792 with 2 Axes>"
      ]
     },
     "metadata": {},
     "output_type": "display_data"
    }
   ],
   "source": [
    "#plot heat map\n",
    "g=sns.heatmap(dataset[top_corr_features].corr(), annot=True, cmap=\"RdYlGn\")\n",
    "plt.show()"
   ]
  },
  {
   "cell_type": "markdown",
   "id": "f12d9a1d-3516-45e4-9088-76b996e3c32c",
   "metadata": {},
   "source": [
    "### Review Dataset Balance <a name=\"data_balance_heart\"></a>"
   ]
  },
  {
   "cell_type": "code",
   "execution_count": 39,
   "id": "afb60a20-0dfe-428f-9a22-608c9073fbf2",
   "metadata": {},
   "outputs": [
    {
     "data": {
      "image/png": "[encoded data removed]",
      "text/plain": [
       "<Figure size 1152x792 with 1 Axes>"
      ]
     },
     "metadata": {},
     "output_type": "display_data"
    }
   ],
   "source": [
    "# Check allocation balancing  of target classes\n",
    "sns.set_style('whitegrid')\n",
    "sns.countplot(x='class',data=dataset,palette='RdBu_r')\n",
    "plt.show()"
   ]
  },
  {
   "cell_type": "markdown",
   "id": "669572e0-778b-437d-a175-1f12b0f4a0b4",
   "metadata": {},
   "source": [
    "One hot encoding its just applicable to categorical data, \n",
    "so there is no need to \"normalize\" what is already categorical. \n",
    "Although, the rest of your numerical data should be normalized."
   ]
  },
  {
   "cell_type": "markdown",
   "id": "77563a66-9cbe-4f86-8501-7e0f1b9637ed",
   "metadata": {
    "tags": []
   },
   "source": [
    "## Data Processing and Preparation <a name=\"dataprep_rf\"></a>"
   ]
  },
  {
   "cell_type": "markdown",
   "id": "7f921d55-c013-4eb2-a255-d381d4251950",
   "metadata": {
    "tags": []
   },
   "source": [
    "### Set X and Target y <a name=\"x_and_target_rf\"></a>"
   ]
  },
  {
   "cell_type": "code",
   "execution_count": 41,
   "id": "42eb0f3a-a5bc-4393-bc93-a3a53bc925e7",
   "metadata": {},
   "outputs": [],
   "source": [
    "y = dataset['class']\n",
    "X = dataset.drop(['class'], axis = 1)\n",
    "X_scaled = dataset.drop(['class'], axis = 1)\n",
    "indices = X.index"
   ]
  },
  {
   "cell_type": "markdown",
   "id": "f83d18d2-f478-42a7-84ee-038da7fa501c",
   "metadata": {
    "tags": []
   },
   "source": [
    "### Scale / Normalize (for continuous features) <a name=\"normalize_rf\"></a>"
   ]
  },
  {
   "cell_type": "code",
   "execution_count": 42,
   "id": "f91ad655-fec3-4278-8a3e-16aed542c788",
   "metadata": {},
   "outputs": [],
   "source": [
    "# normalize data (except onehot encoding)\n",
    "from sklearn.model_selection import train_test_split\n",
    "from sklearn.preprocessing import StandardScaler\n",
    "standardScaler = StandardScaler()\n",
    "columns_to_scale = ['time_pregnant_no', \n",
    "                    'plasma_concentration',\t\n",
    "                    'diastolic_blood_pressure', \n",
    "                    'triceps_skinfold_thickness', \n",
    "                    'serum_insulin', \n",
    "                    'bmi', \n",
    "                    'diabetes_pedigree', \n",
    "                    'age']\n",
    "X_scaled[columns_to_scale] = standardScaler.fit_transform(X_scaled[columns_to_scale])"
   ]
  },
  {
   "cell_type": "markdown",
   "id": "8e7537d9-0f11-4fe2-97c0-518af6875e7a",
   "metadata": {},
   "source": [
    "### Set Train / Test Splits <a name=\"train_test_rf\"></a>\n",
    "Use a 70/30 train/test split"
   ]
  },
  {
   "cell_type": "code",
   "execution_count": 43,
   "id": "b82a25a6-a04b-4d8b-b632-3b35b2c4bdfa",
   "metadata": {},
   "outputs": [
    {
     "name": "stdout",
     "output_type": "stream",
     "text": [
      "Train set: (537, 8) (537,)\n",
      "Train set (indices): Int64Index([262, 619, 275, 338, 177, 404, 467, 464, 247, 311,\n",
      "            ...\n",
      "            109,  58, 393, 456, 599, 360, 709, 439, 174, 122],\n",
      "           dtype='int64', length=537)\n",
      "Test set: (231, 8) (231,)\n",
      "Test set (indices):  Int64Index([390, 146, 136, 420, 328,  72, 110, 254, 215, 559,\n",
      "            ...\n",
      "            263, 178, 299, 225, 175, 647, 216, 730, 682, 347],\n",
      "           dtype='int64', length=231)\n"
     ]
    }
   ],
   "source": [
    "# est the train/test splits (70 / 30 train/test)\n",
    "# using the list comprehensions created earlier\n",
    "from sklearn.model_selection import train_test_split\n",
    "\n",
    "X_train, X_test, y_train, y_test, indices_train, indices_test = train_test_split(X_scaled, y, indices, test_size=0.3, random_state=4)\n",
    "print ('Train set:', X_train.shape,  y_train.shape)\n",
    "print ('Train set (indices):', indices_train)\n",
    "print ('Test set:', X_test.shape,  y_test.shape)\n",
    "print ('Test set (indices): ', indices_test)"
   ]
  },
  {
   "cell_type": "markdown",
   "id": "708d005e-11dd-4483-b35c-2173bfbc87f8",
   "metadata": {},
   "source": [
    "## Methodology - Supervised Learning: Classification <a name=\"method_class_rf\"></a>"
   ]
  },
  {
   "cell_type": "markdown",
   "id": "53baa6dd-2f11-4b33-8eb2-cfcca014d2d7",
   "metadata": {},
   "source": [
    "### Random Forest <a name=\"randomforest_rf\"></a>"
   ]
  },
  {
   "cell_type": "markdown",
   "id": "07ff6659-f112-46ca-a025-2c4550082063",
   "metadata": {},
   "source": [
    "#### Modeling - Random Forest <a name=\"modelingRF_rf\"></a>"
   ]
  },
  {
   "cell_type": "code",
   "execution_count": 44,
   "id": "014315d3-7433-4153-86ca-2e72217d2685",
   "metadata": {},
   "outputs": [
    {
     "data": {
      "text/plain": [
       "RandomForestClassifier()"
      ]
     },
     "execution_count": 44,
     "metadata": {},
     "output_type": "execute_result"
    }
   ],
   "source": [
    "from sklearn.ensemble import RandomForestClassifier\n",
    "from sklearn.metrics import accuracy_score\n",
    "\n",
    "# create the classifier\n",
    "classifier = RandomForestClassifier(n_estimators=100)\n",
    "\n",
    "# Train the model using the training sets\n",
    "classifier.fit(X_train, y_train)"
   ]
  },
  {
   "cell_type": "code",
   "execution_count": 47,
   "id": "aa106442-1983-4882-a07b-e36ef7b88214",
   "metadata": {},
   "outputs": [],
   "source": [
    "# maybe show all the default values"
   ]
  },
  {
   "cell_type": "markdown",
   "id": "6b8072c9-10d2-43a4-ab8f-26ab55f4d011",
   "metadata": {},
   "source": [
    "#### Accuracy and Important Features - Random Forest <a name=\"accuracy_features_rf\"></a>"
   ]
  },
  {
   "cell_type": "code",
   "execution_count": 45,
   "id": "99c482d3-19dd-4a6a-8096-224af59fd9ff",
   "metadata": {},
   "outputs": [],
   "source": [
    "# predictin on the test set\n",
    "y_pred = classifier.predict(X_test)"
   ]
  },
  {
   "cell_type": "code",
   "execution_count": 73,
   "id": "12d2669f-2681-47e7-b1d4-3c5d956d35a2",
   "metadata": {},
   "outputs": [
    {
     "name": "stdout",
     "output_type": "stream",
     "text": [
      "Accuracy: 0.774892\n"
     ]
    }
   ],
   "source": [
    "# Calculate Model Accuracy\n",
    "accuracy_randomforest_0 = round(accuracy_score(y_test, y_pred),6)\n",
    "print(f\"Accuracy: {accuracy_randomforest_0}\")"
   ]
  },
  {
   "cell_type": "markdown",
   "id": "1a5bcd43-4528-49c5-8753-ce9b4786a337",
   "metadata": {},
   "source": [
    "#### Plot Feature Importance - Random Forest <a name=\"accuracy_features_rf\"></a>"
   ]
  },
  {
   "cell_type": "code",
   "execution_count": 48,
   "id": "574b9c3f-51a9-4fa4-9883-9f0aa8e86a0a",
   "metadata": {
    "tags": []
   },
   "outputs": [
    {
     "data": {
      "text/html": [
       "<div>\n",
       "<style scoped>\n",
       "    .dataframe tbody tr th:only-of-type {\n",
       "        vertical-align: middle;\n",
       "    }\n",
       "\n",
       "    .dataframe tbody tr th {\n",
       "        vertical-align: top;\n",
       "    }\n",
       "\n",
       "    .dataframe thead th {\n",
       "        text-align: right;\n",
       "    }\n",
       "</style>\n",
       "<table border=\"1\" class=\"dataframe\">\n",
       "  <thead>\n",
       "    <tr style=\"text-align: right;\">\n",
       "      <th></th>\n",
       "      <th>feature</th>\n",
       "      <th>importance</th>\n",
       "    </tr>\n",
       "  </thead>\n",
       "  <tbody>\n",
       "    <tr>\n",
       "      <th>1</th>\n",
       "      <td>plasma_concentration</td>\n",
       "      <td>0.236099</td>\n",
       "    </tr>\n",
       "    <tr>\n",
       "      <th>5</th>\n",
       "      <td>bmi</td>\n",
       "      <td>0.155883</td>\n",
       "    </tr>\n",
       "    <tr>\n",
       "      <th>7</th>\n",
       "      <td>age</td>\n",
       "      <td>0.151127</td>\n",
       "    </tr>\n",
       "    <tr>\n",
       "      <th>6</th>\n",
       "      <td>diabetes_pedigree</td>\n",
       "      <td>0.122915</td>\n",
       "    </tr>\n",
       "    <tr>\n",
       "      <th>2</th>\n",
       "      <td>diastolic_blood_pressure</td>\n",
       "      <td>0.092482</td>\n",
       "    </tr>\n",
       "    <tr>\n",
       "      <th>0</th>\n",
       "      <td>time_pregnant_no</td>\n",
       "      <td>0.090331</td>\n",
       "    </tr>\n",
       "    <tr>\n",
       "      <th>4</th>\n",
       "      <td>serum_insulin</td>\n",
       "      <td>0.076164</td>\n",
       "    </tr>\n",
       "    <tr>\n",
       "      <th>3</th>\n",
       "      <td>triceps_skinfold_thickness</td>\n",
       "      <td>0.074999</td>\n",
       "    </tr>\n",
       "  </tbody>\n",
       "</table>\n",
       "</div>"
      ],
      "text/plain": [
       "                      feature  importance\n",
       "1        plasma_concentration    0.236099\n",
       "5                         bmi    0.155883\n",
       "7                         age    0.151127\n",
       "6           diabetes_pedigree    0.122915\n",
       "2    diastolic_blood_pressure    0.092482\n",
       "0            time_pregnant_no    0.090331\n",
       "4               serum_insulin    0.076164\n",
       "3  triceps_skinfold_thickness    0.074999"
      ]
     },
     "execution_count": 48,
     "metadata": {},
     "output_type": "execute_result"
    }
   ],
   "source": [
    "# check Important features\n",
    "df_feature_importances = pd.DataFrame(\n",
    "    {\"feature\": list(X.columns), \"importance\": classifier.feature_importances_}\n",
    ").sort_values(\"importance\", ascending=False)\n",
    "\n",
    "# Display\n",
    "df_feature_importances"
   ]
  },
  {
   "cell_type": "code",
   "execution_count": 49,
   "id": "25d469db-7b56-4acd-9b67-144c73e2e2ce",
   "metadata": {},
   "outputs": [
    {
     "data": {
      "image/png": "[encoded data removed]",
      "text/plain": [
       "<Figure size 1152x792 with 1 Axes>"
      ]
     },
     "metadata": {},
     "output_type": "display_data"
    }
   ],
   "source": [
    "# visualize important features\n",
    "\n",
    "# Creating a bar plot\n",
    "sns.barplot(x=df_feature_importances.feature, y=df_feature_importances.importance)\n",
    "# Add labels to your\n",
    "\n",
    "plt.xlabel(\"Feature Importance Score\")\n",
    "plt.ylabel(\"Features\")\n",
    "plt.title(\"Visualizing Important Features\")\n",
    "plt.xticks(\n",
    "    rotation=45, horizontalalignment=\"right\", fontweight=\"light\", fontsize=\"x-large\"\n",
    ")\n",
    "plt.show()"
   ]
  },
  {
   "cell_type": "code",
   "execution_count": 59,
   "id": "cfdebcf9-46a3-4943-aff8-f2b5bb1cd058",
   "metadata": {},
   "outputs": [
    {
     "name": "stdout",
     "output_type": "stream",
     "text": [
      "Note that the lowest ranked feature is triceps_skinfold_thickness.\n",
      "Let's remove this feature and see how much accuracy improves.\n"
     ]
    }
   ],
   "source": [
    "lowest_rank = df_feature_importances.loc[df_feature_importances.index == df_feature_importances.importance.idxmin()].feature.values\n",
    "print(f\"Note that the lowest ranked feature is {lowest_rank[0]}.\\nLet's remove this feature and see how much accuracy improves.\")"
   ]
  },
  {
   "cell_type": "code",
   "execution_count": 69,
   "id": "164c5cab-0210-46a4-8fec-c97c92b5e844",
   "metadata": {},
   "outputs": [],
   "source": [
    "# load data with selected features\n",
    "X1 = dataset.drop([\"class\", \"triceps_skinfold_thickness\"], axis=1)\n",
    "y1 = dataset[\"class\"]\n",
    "\n",
    "# standardize the dataset\n",
    "scaler = StandardScaler()\n",
    "X1_scaled = scaler.fit_transform(X1)\n",
    "\n",
    "# split into train and test set\n",
    "X1_train, X1_test, y1_train, y1_test = train_test_split(\n",
    "    X1_scaled, y1, stratify=y1, test_size=0.30, random_state=4\n",
    ")"
   ]
  },
  {
   "cell_type": "code",
   "execution_count": 70,
   "id": "fe435523-cef0-452b-a443-6ebd679b387f",
   "metadata": {},
   "outputs": [],
   "source": [
    "# Create a Random Classifier\n",
    "clf = RandomForestClassifier(n_estimators=100)\n",
    "\n",
    "# Train the model using the training sets\n",
    "clf.fit(X1_train, y1_train)\n",
    "\n",
    "# prediction on test set\n",
    "y1_pred = clf.predict(X1_test)"
   ]
  },
  {
   "cell_type": "code",
   "execution_count": 72,
   "id": "39513bb0-c6fc-42da-bf3f-e3449eceb537",
   "metadata": {},
   "outputs": [
    {
     "name": "stdout",
     "output_type": "stream",
     "text": [
      "Accuracy: 0.709957\n"
     ]
    }
   ],
   "source": [
    "# Calculate Model Accuracy,\n",
    "accuracy_randomforest_1 = round(accuracy_score(y1_test, y1_pred),6)\n",
    "print(f\"Accuracy: {accuracy_randomforest_1}\")"
   ]
  },
  {
   "cell_type": "markdown",
   "id": "8c3b763b-6f76-4038-be22-3c363cfc882d",
   "metadata": {},
   "source": [
    "## Conclusion<a name=\"conclusion_arima\"></a>"
   ]
  },
  {
   "cell_type": "markdown",
   "id": "8dabf12d-12d1-4005-ad82-f8f72d7463c6",
   "metadata": {},
   "source": [
    "Random forests are a useful supervised learning classification tool that helps limit overfitting. We could further improve model accuracy by removing least important features as part of PCA and attempt to tune parameters to optimize model results."
   ]
  }
 ],
 "metadata": {
  "kernelspec": {
   "display_name": "Python 3 (ipykernel)",
   "language": "python",
   "name": "python3"
  },
  "language_info": {
   "codemirror_mode": {
    "name": "ipython",
    "version": 3
   },
   "file_extension": ".py",
   "mimetype": "text/x-python",
   "name": "python",
   "nbconvert_exporter": "python",
   "pygments_lexer": "ipython3",
   "version": "3.8.5"
  },
  "toc-showcode": true
 },
 "nbformat": 4,
 "nbformat_minor": 5
}
